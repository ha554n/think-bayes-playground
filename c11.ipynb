{
 "cells": [
  {
   "cell_type": "code",
   "execution_count": 1,
   "metadata": {},
   "outputs": [],
   "source": [
    "from c4.Euro2 import Euro\n",
    "from c11.util import *"
   ]
  },
  {
   "cell_type": "code",
   "execution_count": 2,
   "metadata": {},
   "outputs": [],
   "source": [
    "suite = Euro()\n",
    "data = (140, 110)"
   ]
  },
  {
   "cell_type": "code",
   "execution_count": 3,
   "metadata": {},
   "outputs": [
    {
     "name": "stdout",
     "output_type": "stream",
     "text": [
      "likelihood_a = 5.5e-76\n",
      "likelihood_b = 3.4e-75\n",
      "likelihood_b / likelihood_a = 6.1\n"
     ]
    }
   ],
   "source": [
    "likelihood_a = suite.likelihood(data, 50)\n",
    "print(\"likelihood_a = {:.2g}\".format(likelihood_a))\n",
    "\n",
    "actural_percent = 100.0 * 140 / 250\n",
    "likelihood_b = suite.likelihood(data, actural_percent)\n",
    "print(\"likelihood_b = {:.2g}\".format(likelihood_b))\n",
    "\n",
    "print(\"likelihood_b / likelihood_a = {:.2g}\".format(likelihood_b / likelihood_a))"
   ]
  },
  {
   "cell_type": "code",
   "execution_count": 4,
   "metadata": {},
   "outputs": [
    {
     "name": "stdout",
     "output_type": "stream",
     "text": [
      "likelihood_40_60 / likelihood_a = 1.3\n"
     ]
    }
   ],
   "source": [
    "like_40 = suite.likelihood(data, 40)\n",
    "like_60 = suite.likelihood(data, 60)\n",
    "likelihood_40_60 = 0.5 * like_40 + 0.5 * like_60\n",
    "print(\"likelihood_40_60 / likelihood_a = {:.2g}\".format(likelihood_40_60 / likelihood_a))"
   ]
  },
  {
   "cell_type": "code",
   "execution_count": 5,
   "metadata": {},
   "outputs": [
    {
     "name": "stdout",
     "output_type": "stream",
     "text": [
      "likelihood_b_uniform / likelihood_a = 0.47\n"
     ]
    }
   ],
   "source": [
    "b_uniform = Euro(range(0, 101))\n",
    "b_uniform.remove(50)\n",
    "b_uniform.normalize()\n",
    "likelihood_b_uniform = suite_likelihood(b_uniform, data)\n",
    "# likelihood_b_uniform = b_uniform.update(data)\n",
    "print(\"likelihood_b_uniform / likelihood_a = {:.2g}\".format(likelihood_b_uniform / likelihood_a))"
   ]
  },
  {
   "cell_type": "code",
   "execution_count": 6,
   "metadata": {},
   "outputs": [
    {
     "name": "stdout",
     "output_type": "stream",
     "text": [
      "likelihood_tri / likelihood_a = 0.84\n"
     ]
    }
   ],
   "source": [
    "euro_tri = Euro()\n",
    "for x in range(0, 51):\n",
    "    euro_tri.set(x, x)\n",
    "for x in range(51, 101):\n",
    "    euro_tri.set(x, 100 - x)\n",
    "euro_tri.normalize()\n",
    "\n",
    "likelihood_tri = euro_tri.update(data)\n",
    "print(\"likelihood_tri / likelihood_a = {:.2g}\".format(likelihood_tri / likelihood_a))"
   ]
  },
  {
   "cell_type": "code",
   "execution_count": null,
   "metadata": {},
   "outputs": [],
   "source": []
  }
 ],
 "metadata": {
  "kernelspec": {
   "display_name": "Python 3",
   "language": "python",
   "name": "python3"
  },
  "language_info": {
   "codemirror_mode": {
    "name": "ipython",
    "version": 3
   },
   "file_extension": ".py",
   "mimetype": "text/x-python",
   "name": "python",
   "nbconvert_exporter": "python",
   "pygments_lexer": "ipython3",
   "version": "3.6.5"
  }
 },
 "nbformat": 4,
 "nbformat_minor": 2
}
