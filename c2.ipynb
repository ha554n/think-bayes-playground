{
 "cells": [
  {
   "cell_type": "code",
   "execution_count": 1,
   "metadata": {},
   "outputs": [],
   "source": [
    "from common.Pmf import Pmf\n",
    "from c2.Cookie import Cookie\n",
    "from c2.Monty import Monty\n",
    "from c2.MontySuite import MontySuite\n",
    "from c2.MM import MM"
   ]
  },
  {
   "cell_type": "code",
   "execution_count": 2,
   "metadata": {
    "scrolled": true
   },
   "outputs": [
    {
     "data": {
      "image/png": "[encoded data removed]",
      "text/plain": [
       "<Figure size 432x288 with 1 Axes>"
      ]
     },
     "metadata": {},
     "output_type": "display_data"
    }
   ],
   "source": [
    "pmf = Pmf()\n",
    "for x in [1, 2, 3, 4, 5, 6]:\n",
    "    pmf.set(x, 1.0 / 6)\n",
    "pmf.plot_bar()"
   ]
  },
  {
   "cell_type": "code",
   "execution_count": 3,
   "metadata": {},
   "outputs": [
    {
     "name": "stdout",
     "output_type": "stream",
     "text": [
      "value\tprob\n",
      "Bowl 1\t0.6\n",
      "Bowl 2\t0.4\n",
      "\n"
     ]
    }
   ],
   "source": [
    "pmf = Pmf()\n",
    "\n",
    "pmf.set('Bowl 1', 0.5)\n",
    "pmf.set('Bowl 2', 0.5)\n",
    "pmf.mult('Bowl 1', 0.75)\n",
    "pmf.mult('Bowl 2', 0.5)\n",
    "\n",
    "pmf.normalize()\n",
    "pmf.print()"
   ]
  },
  {
   "cell_type": "code",
   "execution_count": 4,
   "metadata": {
    "scrolled": true
   },
   "outputs": [
    {
     "name": "stdout",
     "output_type": "stream",
     "text": [
      "value\tprob\n",
      "Bowl 1\t0.6\n",
      "Bowl 2\t0.4\n",
      "\n"
     ]
    }
   ],
   "source": [
    "hypos = ['Bowl 1', 'Bowl 2']\n",
    "cookie = Cookie(hypos)\n",
    "cookie.update('vanilla')\n",
    "cookie.print()"
   ]
  },
  {
   "cell_type": "code",
   "execution_count": 5,
   "metadata": {},
   "outputs": [
    {
     "name": "stdout",
     "output_type": "stream",
     "text": [
      "value\tprob\n",
      "A\t0.333333\n",
      "B\t0\n",
      "C\t0.666667\n",
      "\n"
     ]
    }
   ],
   "source": [
    "hypos = ['A', 'B', 'C']\n",
    "monty = Monty(hypos)\n",
    "monty.update('B')\n",
    "monty.print()"
   ]
  },
  {
   "cell_type": "code",
   "execution_count": 6,
   "metadata": {
    "scrolled": true
   },
   "outputs": [
    {
     "name": "stdout",
     "output_type": "stream",
     "text": [
      "value\tprob\n",
      "A\t0.333333\n",
      "B\t0\n",
      "C\t0.666667\n",
      "\n"
     ]
    }
   ],
   "source": [
    "hypos = ['A', 'B', 'C']\n",
    "monty_suite = MontySuite(hypos)\n",
    "monty_suite.update('B')\n",
    "monty_suite.print()"
   ]
  },
  {
   "cell_type": "code",
   "execution_count": 7,
   "metadata": {},
   "outputs": [
    {
     "name": "stdout",
     "output_type": "stream",
     "text": [
      "value\tprob\n",
      "A\t0.740741\n",
      "B\t0.259259\n",
      "\n"
     ]
    }
   ],
   "source": [
    "hypos = ['A', 'B']\n",
    "mm = MM(hypos)\n",
    "mm.update(('Bag 1', 'yellow'))\n",
    "mm.update(('Bag 2', 'green'))\n",
    "mm.print()"
   ]
  }
 ],
 "metadata": {
  "kernelspec": {
   "display_name": "Python [conda env:anaconda3]",
   "language": "python",
   "name": "conda-env-anaconda3-py"
  },
  "language_info": {
   "codemirror_mode": {
    "name": "ipython",
    "version": 3
   },
   "file_extension": ".py",
   "mimetype": "text/x-python",
   "name": "python",
   "nbconvert_exporter": "python",
   "pygments_lexer": "ipython3",
   "version": "3.6.5"
  }
 },
 "nbformat": 4,
 "nbformat_minor": 2
}
